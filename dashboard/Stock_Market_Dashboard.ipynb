{
  "nbformat": 4,
  "nbformat_minor": 0,
  "metadata": {
    "colab": {
      "name": "Stock-Market-Dashboard.ipynb",
      "provenance": [],
      "collapsed_sections": [],
      "authorship_tag": "ABX9TyOSY09Jm4dz7iYatS09mebw",
      "include_colab_link": true
    },
    "kernelspec": {
      "name": "python3",
      "display_name": "Python 3"
    }
  },
  "cells": [
    {
      "cell_type": "markdown",
      "metadata": {
        "id": "view-in-github",
        "colab_type": "text"
      },
      "source": [
        "<a href=\"https://colab.research.google.com/github/ktiwari9/algotradingbot/blob/master/dashboard/Stock_Market_Dashboard.ipynb\" target=\"_parent\"><img src=\"https://colab.research.google.com/assets/colab-badge.svg\" alt=\"Open In Colab\"/></a>"
      ]
    },
    {
      "cell_type": "code",
      "metadata": {
        "id": "qEHlM0sEoyEF",
        "colab_type": "code",
        "colab": {}
      },
      "source": [
        "# Description: Dashboard to display stock trends based on ticker and date range selected.\n",
        "# inspired by: https://github.com/Ryan-Sz/StockMarketDashboard/blob/master/DashMilestone3.py"
      ],
      "execution_count": 3,
      "outputs": []
    },
    {
      "cell_type": "code",
      "metadata": {
        "id": "lO28U8LgpCxI",
        "colab_type": "code",
        "colab": {
          "base_uri": "https://localhost:8080/",
          "height": 52
        },
        "outputId": "cce94f9d-52cc-4de5-8d3a-52f47214d466"
      },
      "source": [
        "# Necessary imports\n",
        "\n",
        "try:\n",
        "    import jupyter_plotly_dash\n",
        "except ImportError as e:\n",
        "    print(\"jupyter_plotly_dash Module doesn't exist. Importing now....\")\n",
        "    !sudo pip install jupyter_plotly_dash\n",
        "\n",
        "from jupyter_plotly_dash import JupyterDash # Use JupyterDash instead of regular Dash if running Jupyter Notebook.\n",
        "\n",
        "\n",
        "try:\n",
        "    import dash\n",
        "except ImportError as e:\n",
        "    print(\"dash Module doesn't exist. Importing now....\")\n",
        "    !sudo pip install dash\n",
        "import dash\n",
        "import dash_html_components as html\n",
        "import dash_core_components as dcc\n",
        "from dash.dependencies import Input,Output,State\n",
        "import pandas_datareader.data as web\n",
        "import datetime as dt\n",
        "import pandas as pd\n",
        "import numpy as np\n",
        "import matplotlib.pyplot as plt\n",
        "from plotly.tools import mpl_to_plotly\n",
        "import plotly.graph_objs as go\n",
        "import plotly.tools as tls\n",
        "import base64\n",
        "import textwrap as tw\n",
        "\n",
        "from PIL import Image\n",
        "import requests\n",
        "from io import BytesIO\n",
        "\n",
        "try:\n",
        "    import dash_auth\n",
        "except ImportError as e:\n",
        "    print(\"dash_auth Module doesn't exist. Importing now....\")\n",
        "    !sudo pip install dash_auth\n",
        "\n",
        "# import dash_auth\n",
        "\n",
        "# USERNAME_PASSWORD_PAIRS = [['username', 'password']]\n",
        "\n",
        "print(\"Running DCC == \",dcc.__version__)\n",
        "\n",
        "from platform import python_version\n",
        "\n",
        "print(\"Running Python == \",python_version())\n",
        "\n",
        "from IPython import display # to show the app within an iframe inside the notebook"
      ],
      "execution_count": 5,
      "outputs": [
        {
          "output_type": "stream",
          "text": [
            "Running DCC ==  1.10.2\n",
            "Running Python ==  3.6.9\n"
          ],
          "name": "stdout"
        }
      ]
    },
    {
      "cell_type": "code",
      "metadata": {
        "id": "51WsB-uZqffo",
        "colab_type": "code",
        "colab": {
          "base_uri": "https://localhost:8080/",
          "height": 106
        },
        "outputId": "1cf76f72-a020-4f4e-f820-7f295a0acc0c"
      },
      "source": [
        "# Initialize the dashboard app\n",
        "app_name = \"Stock Price Dashboard\"\n",
        "app = JupyterDash(app_name, serve_locally=False) #dash.Dash() #dash.Dash() is when using regular python not Jupyter\n",
        "# auth = dash_auth.BasicAuth(app, USERNAME_PASSWORD_PAIRS)\n",
        "!jupyter serverextension list\n",
        "app.app_state"
      ],
      "execution_count": 10,
      "outputs": [
        {
          "output_type": "stream",
          "text": [
            "config dir: /usr/local/etc/jupyter\n",
            "    google.colab._serverextension \u001b[32m enabled \u001b[0m\n",
            "    - Validating...\n",
            "      google.colab._serverextension  \u001b[32mOK\u001b[0m\n"
          ],
          "name": "stdout"
        },
        {
          "output_type": "execute_result",
          "data": {
            "text/plain": [
              "{}"
            ]
          },
          "metadata": {
            "tags": []
          },
          "execution_count": 10
        }
      ]
    },
    {
      "cell_type": "code",
      "metadata": {
        "id": "xBaS3ElksLus",
        "colab_type": "code",
        "colab": {}
      },
      "source": [
        "# Helper Function to properly encode background image\n",
        "def encode_image(image_url):\n",
        "    # encoded = base64.b64encode(open(image_file, 'rb').read())\n",
        "    # return 'data:image/png;base64,{}'.format(encoded.decode())\n",
        "    return base64.b64encode(requests.get(image_url).content)"
      ],
      "execution_count": 7,
      "outputs": []
    },
    {
      "cell_type": "code",
      "metadata": {
        "id": "eKOcW0lmv5HE",
        "colab_type": "code",
        "colab": {}
      },
      "source": [
        "# Helper function to update the stock graph\n",
        "def update_graph(n_clicks, stock_ticker, start_date, end_date) :\n",
        "    start = dt.datetime.strptime(start_date[:10], '%Y-%m-%d')\n",
        "    end = dt.datetime.strptime(end_date[:10], '%Y-%m-%d')\n",
        "    df = web.DataReader(stock_ticker, 'yahoo', start, end)\n",
        "    traces = [{'x':df.index, 'y':df['Close'], 'name':stock_ticker,\n",
        "            'line':dict(color = stockchart_color, width = 3)}]\n",
        "    fig = {'data': traces,\n",
        "            'layout' : go.Layout(title=stock_ticker + ' Closing Price',\n",
        "                                yaxis=dict(title='Price / $'),\n",
        "                                paper_bgcolor='rgba(0,0,0,0)',\n",
        "                                plot_bgcolor='rgba(0,0,0,0)',\n",
        "                                font=dict(family=font_family, size=font_size, color=font_colour)\n",
        "                                )\n",
        "    }\n",
        "    return fig"
      ],
      "execution_count": 8,
      "outputs": []
    },
    {
      "cell_type": "code",
      "metadata": {
        "id": "dF5dzGkI0qAA",
        "colab_type": "code",
        "colab": {
          "base_uri": "https://localhost:8080/",
          "height": 135
        },
        "outputId": "37c47dd3-034d-4507-bfbf-caddd7289a21"
      },
      "source": [
        "# update graph when stock ticker is changed or inputs are updated\n",
        "def update_mc_graph(n_clicks, stock_ticker, start_date, end_date, n_runs) :\n",
        "    start = dt.datetime.strptime(start_date[:10], '%Y-%m-%d')\n",
        "    end = dt.datetime.strptime(end_date[:10], '%Y-%m-%d')\n",
        "    df = web.DataReader(stock_ticker, 'yahoo', start, end)\n",
        "\n",
        "    rets = df['Close'].pct_change().dropna()\n",
        "\n",
        "    mu = rets.mean()\n",
        "    sigma = rets.std()\n",
        "    start_price = df['Close'].iloc[len(df)-1]\n",
        "    runs = n_runs\n",
        "\n",
        "    columns = list(range(days))\n",
        "    columns[0] = stock_ticker\n",
        "    df_sim = pd.DataFrame(columns=columns)\n",
        "\n",
        "    for run in range(runs) :\n",
        "        df_sim.loc[run] = stock_monte_carlo(start_price, days, mu, sigma)\n",
        "\n",
        "    return df_sim.to_json(orient='split')\n",
        "\n",
        "@app.callback(\n",
        "    dash.dependencies.Output('pathGraph', 'figure'),\n",
        "    [dash.dependencies.Input('json_df', 'children')])"
      ],
      "execution_count": 9,
      "outputs": [
        {
          "output_type": "error",
          "ename": "SyntaxError",
          "evalue": "ignored",
          "traceback": [
            "\u001b[0;36m  File \u001b[0;32m\"<ipython-input-9-98c659a6c6ce>\"\u001b[0;36m, line \u001b[0;32m25\u001b[0m\n\u001b[0;31m    [dash.dependencies.Input('json_df', 'children')])\u001b[0m\n\u001b[0m                                                     ^\u001b[0m\n\u001b[0;31mSyntaxError\u001b[0m\u001b[0;31m:\u001b[0m unexpected EOF while parsing\n"
          ]
        }
      ]
    },
    {
      "cell_type": "code",
      "metadata": {
        "id": "m4wf3I2k113o",
        "colab_type": "code",
        "colab": {}
      },
      "source": [
        "# MCMC to predict stock prices of the future\n",
        "def stock_monte_carlo (start_price, days, mu, sigma) :\n",
        "    price = np.zeros(days)\n",
        "    price[0] = start_price\n",
        "    shock = np.zeros(days)\n",
        "    drift = np.zeros(days)\n",
        "    for x in range(1, days) :\n",
        "        drift[x] = mu*deltat\n",
        "        shock[x] = np.random.normal(loc=0.0, scale=sigma*np.sqrt(deltat))\n",
        "        price[x] = price[x-1] + price[x-1]*(drift[x] + shock[x])\n",
        "    return price"
      ],
      "execution_count": 11,
      "outputs": []
    },
    {
      "cell_type": "code",
      "metadata": {
        "id": "GeuYcZMYwCPr",
        "colab_type": "code",
        "colab": {
          "base_uri": "https://localhost:8080/",
          "height": 135
        },
        "outputId": "e3b4e752-f56a-44b2-ed76-7706db56564c"
      },
      "source": [
        "def update_hist(json_df) :\n",
        "    df_sim = pd.read_json(json_df, orient='split')\n",
        "    stock_ticker = df_sim.columns[0]\n",
        "    simulations = np.zeros(len(df_sim))\n",
        "    for i in range(len(df_sim)) :\n",
        "        simulations[i] = df_sim.iloc[i][days-1]\n",
        "    q = np.percentile(simulations, 5)\n",
        "    m = np.percentile(simulations, 50)\n",
        "\n",
        "    data = [go.Histogram(x=simulations,\n",
        "                        histnorm = 'probability',\n",
        "                        showlegend=False,\n",
        "                        nbinsx=50\n",
        "                        ),\n",
        "            go.Scatter(x=[q,q],\n",
        "                        y=[0,0.1],\n",
        "                        mode='lines',\n",
        "                        name='Value at Risk (5%%) $%.2f' %q\n",
        "                        ),\n",
        "            go.Scatter(x=[m,m],\n",
        "                        y=[0,0.1],\n",
        "                        mode='lines',\n",
        "                        name='Median Price $%.2f' % m\n",
        "                        )\n",
        "            ]\n",
        "    layout = go.Layout(title=\"Probability Distribution of %s Stock Price after %d Trading Days\" % (stock_ticker,days),\n",
        "                        yaxis=dict(range=[0,0.1]),\n",
        "                        xaxis=dict(title='Price / $'),\n",
        "                        bargap=0.01,\n",
        "                        paper_bgcolor='rgba(0,0,0,0)',\n",
        "                        plot_bgcolor='rgba(0,0,0,0)',\n",
        "                        font=dict(family=font_family, size=font_size, color=font_colour)\n",
        "                        )\n",
        "    plotly_fig = go.Figure(data=data, layout=layout)\n",
        "\n",
        "    return plotly_fig\n",
        "\n",
        "@app.callback(Output('my_graph', 'figure'),\n",
        "            [Input('submit-button', 'n_clicks')],\n",
        "            [State('my_ticker_symbol', 'value'),\n",
        "            State('my_date_picker', 'start_date'),\n",
        "            State('my_date_picker', 'end_date')\n",
        "    ])"
      ],
      "execution_count": 12,
      "outputs": [
        {
          "output_type": "error",
          "ename": "SyntaxError",
          "evalue": "ignored",
          "traceback": [
            "\u001b[0;36m  File \u001b[0;32m\"<ipython-input-12-a9902d913bac>\"\u001b[0;36m, line \u001b[0;32m43\u001b[0m\n\u001b[0;31m    ])\u001b[0m\n\u001b[0m      ^\u001b[0m\n\u001b[0;31mSyntaxError\u001b[0m\u001b[0;31m:\u001b[0m unexpected EOF while parsing\n"
          ]
        }
      ]
    },
    {
      "cell_type": "code",
      "metadata": {
        "id": "T3kmVjoL2LVe",
        "colab_type": "code",
        "colab": {
          "base_uri": "https://localhost:8080/",
          "height": 135
        },
        "outputId": "b223639e-e227-47ea-c5b9-17e466bd9e63"
      },
      "source": [
        "def update_paths(json_df) :\n",
        "    df_sim = pd.read_json(json_df, orient='split')\n",
        "    stock_ticker = df_sim.columns[0]\n",
        "    df_sim.columns.values[0] = 0\n",
        "    data = []\n",
        "    for i in range(len(df_sim)) :\n",
        "        X = df_sim.iloc[i]\n",
        "        data.append(go.Scatter(y=X,\n",
        "                                mode='lines',\n",
        "                                showlegend=False,\n",
        "                                opacity=0.6)\n",
        "                    )\n",
        "    layout=go.Layout(title=stock_ticker + \" Simulation Paths\",\n",
        "                        xaxis=dict(title='Trading Days'),\n",
        "                        yaxis=dict(title='Price / $'),\n",
        "                        paper_bgcolor='rgba(0,0,0,0)',\n",
        "                        plot_bgcolor='rgba(0,0,0,0)',\n",
        "                        font=dict(family=font_family, size=font_size, color=font_colour)\n",
        "                    )\n",
        "    plotly_fig = go.Figure(data=data, layout=layout)\n",
        "\n",
        "    return plotly_fig\n",
        "@app.callback(Output('mcGraph', 'figure'),\n",
        "            [Input('json_df', 'children')\n",
        "    ])"
      ],
      "execution_count": 13,
      "outputs": [
        {
          "output_type": "error",
          "ename": "SyntaxError",
          "evalue": "ignored",
          "traceback": [
            "\u001b[0;36m  File \u001b[0;32m\"<ipython-input-13-eb84fbbc896a>\"\u001b[0;36m, line \u001b[0;32m25\u001b[0m\n\u001b[0;31m    ])\u001b[0m\n\u001b[0m      ^\u001b[0m\n\u001b[0;31mSyntaxError\u001b[0m\u001b[0;31m:\u001b[0m unexpected EOF while parsing\n"
          ]
        }
      ]
    },
    {
      "cell_type": "code",
      "metadata": {
        "id": "tmuPgAG1p-25",
        "colab_type": "code",
        "colab": {}
      },
      "source": [
        "# Set up dashboard parameters\n",
        "bg_colour = '#111111' #'#CEDFD9'\n",
        "stockchart_color = '#FF5D44'\n",
        "font_colour = '#2B2621'\n",
        "font_colour = '#CED3DC'\n",
        "font_family = 'Sans-Serif' #'Courier New, monospace'\n",
        "font_size = 15"
      ],
      "execution_count": 14,
      "outputs": []
    },
    {
      "cell_type": "code",
      "metadata": {
        "id": "1C-qh8gJqXBQ",
        "colab_type": "code",
        "colab": {}
      },
      "source": [
        "deltat = 1\n",
        "days = 20 # simulates realistic stock value trajectories 20 days in the future with Monte Carlo simulations. "
      ],
      "execution_count": 15,
      "outputs": []
    },
    {
      "cell_type": "code",
      "metadata": {
        "id": "_siPrcRyqinY",
        "colab_type": "code",
        "colab": {}
      },
      "source": [
        "# Load the NASDAQ list of companies\n",
        "url = 'https://raw.githubusercontent.com/ktiwari9/algotradingbot/master/dashboard/NASDAQcompanylist.csv'\n",
        "nsdq = pd.read_csv(url)\n",
        "nsdq.set_index('Symbol', inplace=True)\n",
        "options = []"
      ],
      "execution_count": 16,
      "outputs": []
    },
    {
      "cell_type": "code",
      "metadata": {
        "id": "x-tY-uq6qyG8",
        "colab_type": "code",
        "colab": {
          "base_uri": "https://localhost:8080/",
          "height": 1000
        },
        "outputId": "713c4422-6901-4a08-9840-69168847cc1e"
      },
      "source": [
        "# Parse the NASDAQ list of companies and load the list of tickers\n",
        "for tic in nsdq.index :\n",
        "    mydict = {}\n",
        "    mydict['label'] = str(nsdq.loc[tic][\"Name\"]) + ' ' + tic\n",
        "    mydict['value'] = tic\n",
        "    options.append(mydict)\n",
        "\n",
        "options"
      ],
      "execution_count": 17,
      "outputs": [
        {
          "output_type": "execute_result",
          "data": {
            "text/plain": [
              "[{'label': 'ABIOMED, Inc. ABMD', 'value': 'ABMD'},\n",
              " {'label': 'Activision Blizzard, Inc ATVI', 'value': 'ATVI'},\n",
              " {'label': 'Adobe Systems Incorporated ADBE', 'value': 'ADBE'},\n",
              " {'label': 'Advanced Micro Devices, Inc. AMD', 'value': 'AMD'},\n",
              " {'label': 'AGNC Investment Corp. AGNC', 'value': 'AGNC'},\n",
              " {'label': 'Akamai Technologies, Inc. AKAM', 'value': 'AKAM'},\n",
              " {'label': 'Alexion Pharmaceuticals, Inc. ALXN', 'value': 'ALXN'},\n",
              " {'label': 'Align Technology, Inc. ALGN', 'value': 'ALGN'},\n",
              " {'label': 'Alkermes plc ALKS', 'value': 'ALKS'},\n",
              " {'label': 'Alnylam Pharmaceuticals, Inc. ALNY', 'value': 'ALNY'},\n",
              " {'label': 'Alphabet Inc. GOOG', 'value': 'GOOG'},\n",
              " {'label': 'Altaba Inc. AABA', 'value': 'AABA'},\n",
              " {'label': 'Amazon.com, Inc. AMZN', 'value': 'AMZN'},\n",
              " {'label': 'Amdocs Limited DOX', 'value': 'DOX'},\n",
              " {'label': 'Amerco UHAL', 'value': 'UHAL'},\n",
              " {'label': 'America Movil, S.A.B. de C.V. AMOV', 'value': 'AMOV'},\n",
              " {'label': 'American Airlines Group, Inc. AAL', 'value': 'AAL'},\n",
              " {'label': 'Amgen Inc. AMGN', 'value': 'AMGN'},\n",
              " {'label': 'Analog Devices, Inc. ADI', 'value': 'ADI'},\n",
              " {'label': 'ANGI Homeservices Inc. ANGI', 'value': 'ANGI'},\n",
              " {'label': 'ANSYS, Inc. ANSS', 'value': 'ANSS'},\n",
              " {'label': 'Apple Inc. AAPL', 'value': 'AAPL'},\n",
              " {'label': 'Applied Materials, Inc. AMAT', 'value': 'AMAT'},\n",
              " {'label': 'Arch Capital Group Ltd. ACGL', 'value': 'ACGL'},\n",
              " {'label': 'Ares Capital Corporation ARCC', 'value': 'ARCC'},\n",
              " {'label': 'ASML Holding N.V. ASML', 'value': 'ASML'},\n",
              " {'label': 'Aspen Technology, Inc. AZPN', 'value': 'AZPN'},\n",
              " {'label': 'athenahealth, Inc. ATHN', 'value': 'ATHN'},\n",
              " {'label': 'Atlassian Corporation Plc TEAM', 'value': 'TEAM'},\n",
              " {'label': 'Autodesk, Inc. ADSK', 'value': 'ADSK'},\n",
              " {'label': 'Automatic Data Processing, Inc. ADP', 'value': 'ADP'},\n",
              " {'label': 'Baidu, Inc. BIDU', 'value': 'BIDU'},\n",
              " {'label': 'Bank of the Ozarks OZRK', 'value': 'OZRK'},\n",
              " {'label': 'Biogen Inc. BIIB', 'value': 'BIIB'},\n",
              " {'label': 'BioMarin Pharmaceutical Inc. BMRN', 'value': 'BMRN'},\n",
              " {'label': 'Bio-Techne Corp TECH', 'value': 'TECH'},\n",
              " {'label': 'Blackbaud, Inc. BLKB', 'value': 'BLKB'},\n",
              " {'label': 'Blue Buffalo Pet Products, Inc. BUFF', 'value': 'BUFF'},\n",
              " {'label': 'bluebird bio, Inc. BLUE', 'value': 'BLUE'},\n",
              " {'label': 'BOK Financial Corporation BOKF', 'value': 'BOKF'},\n",
              " {'label': 'Booking Holdings Inc. BKNG', 'value': 'BKNG'},\n",
              " {'label': 'Brighthouse Financial, Inc. BHF', 'value': 'BHF'},\n",
              " {'label': 'Broadcom Inc. AVGO', 'value': 'AVGO'},\n",
              " {'label': 'C.H. Robinson Worldwide, Inc. CHRW', 'value': 'CHRW'},\n",
              " {'label': 'CA Inc. CA', 'value': 'CA'},\n",
              " {'label': 'Cadence Design Systems, Inc. CDNS', 'value': 'CDNS'},\n",
              " {'label': 'Caesars Entertainment Corporation CZR', 'value': 'CZR'},\n",
              " {'label': 'Carlyle Group L.P. (The) CG', 'value': 'CG'},\n",
              " {'label': 'Cavium, Inc. CAVM', 'value': 'CAVM'},\n",
              " {'label': 'Cboe Global Markets, Inc. CBOE', 'value': 'CBOE'},\n",
              " {'label': 'CDK Global, Inc. CDK', 'value': 'CDK'},\n",
              " {'label': 'CDW Corporation CDW', 'value': 'CDW'},\n",
              " {'label': 'Celgene Corporation CELG', 'value': 'CELG'},\n",
              " {'label': 'Cerner Corporation CERN', 'value': 'CERN'},\n",
              " {'label': 'Charter Communications, Inc. CHTR', 'value': 'CHTR'},\n",
              " {'label': 'Check Point Software Technologies Ltd. CHKP', 'value': 'CHKP'},\n",
              " {'label': 'Cincinnati Financial Corporation CINF', 'value': 'CINF'},\n",
              " {'label': 'Cintas Corporation CTAS', 'value': 'CTAS'},\n",
              " {'label': 'Cisco Systems, Inc. CSCO', 'value': 'CSCO'},\n",
              " {'label': 'Citrix Systems, Inc. CTXS', 'value': 'CTXS'},\n",
              " {'label': 'CME Group Inc. CME', 'value': 'CME'},\n",
              " {'label': 'Cognex Corporation CGNX', 'value': 'CGNX'},\n",
              " {'label': 'Cognizant Technology Solutions Corporation CTSH', 'value': 'CTSH'},\n",
              " {'label': 'Columbia Sportswear Company COLM', 'value': 'COLM'},\n",
              " {'label': 'Comcast Corporation CMCSA', 'value': 'CMCSA'},\n",
              " {'label': 'Commerce Bancshares, Inc. CBSH', 'value': 'CBSH'},\n",
              " {'label': 'CommScope Holding Company, Inc. COMM', 'value': 'COMM'},\n",
              " {'label': 'Copart, Inc. CPRT', 'value': 'CPRT'},\n",
              " {'label': 'CoStar Group, Inc. CSGP', 'value': 'CSGP'},\n",
              " {'label': 'Costco Wholesale Corporation COST', 'value': 'COST'},\n",
              " {'label': 'Credit Acceptance Corporation CACC', 'value': 'CACC'},\n",
              " {'label': 'CSX Corporation CSX', 'value': 'CSX'},\n",
              " {'label': 'Ctrip.com International, Ltd. CTRP', 'value': 'CTRP'},\n",
              " {'label': 'Cypress Semiconductor Corporation CY', 'value': 'CY'},\n",
              " {'label': 'DENTSPLY SIRONA Inc. XRAY', 'value': 'XRAY'},\n",
              " {'label': 'DexCom, Inc. DXCM', 'value': 'DXCM'},\n",
              " {'label': 'Diamondback Energy, Inc. FANG', 'value': 'FANG'},\n",
              " {'label': 'Discovery, Inc. DISCB', 'value': 'DISCB'},\n",
              " {'label': 'Discovery, Inc. DISCA', 'value': 'DISCA'},\n",
              " {'label': 'Discovery, Inc. DISCK', 'value': 'DISCK'},\n",
              " {'label': 'DISH Network Corporation DISH', 'value': 'DISH'},\n",
              " {'label': 'Dollar Tree, Inc. DLTR', 'value': 'DLTR'},\n",
              " {'label': 'Dropbox, Inc. DBX', 'value': 'DBX'},\n",
              " {'label': \"Dunkin' Brands Group, Inc. DNKN\", 'value': 'DNKN'},\n",
              " {'label': 'E*TRADE Financial Corporation ETFC', 'value': 'ETFC'},\n",
              " {'label': 'East West Bancorp, Inc. EWBC', 'value': 'EWBC'},\n",
              " {'label': 'eBay Inc. EBAY', 'value': 'EBAY'},\n",
              " {'label': 'EchoStar Corporation SATS', 'value': 'SATS'},\n",
              " {'label': 'Elbit Systems Ltd. ESLT', 'value': 'ESLT'},\n",
              " {'label': 'Electronic Arts Inc. EA', 'value': 'EA'},\n",
              " {'label': 'Equinix, Inc. EQIX', 'value': 'EQIX'},\n",
              " {'label': 'Erie Indemnity Company ERIE', 'value': 'ERIE'},\n",
              " {'label': 'Exelixis, Inc. EXEL', 'value': 'EXEL'},\n",
              " {'label': 'Expedia Group, Inc. EXPE', 'value': 'EXPE'},\n",
              " {'label': 'Expeditors International of Washington, Inc. EXPD',\n",
              "  'value': 'EXPD'},\n",
              " {'label': 'Express Scripts Holding Company ESRX', 'value': 'ESRX'},\n",
              " {'label': 'F5 Networks, Inc. FFIV', 'value': 'FFIV'},\n",
              " {'label': 'Facebook, Inc. FB', 'value': 'FB'},\n",
              " {'label': 'Fastenal Company FAST', 'value': 'FAST'},\n",
              " {'label': 'Fifth Third Bancorp FITB', 'value': 'FITB'},\n",
              " {'label': 'First Solar, Inc. FSLR', 'value': 'FSLR'},\n",
              " {'label': 'Fiserv, Inc. FISV', 'value': 'FISV'},\n",
              " {'label': 'Flex Ltd. FLEX', 'value': 'FLEX'},\n",
              " {'label': 'FLIR Systems, Inc. FLIR', 'value': 'FLIR'},\n",
              " {'label': 'Fortinet, Inc. FTNT', 'value': 'FTNT'},\n",
              " {'label': 'Gaming and Leisure Properties, Inc. GLPI', 'value': 'GLPI'},\n",
              " {'label': 'Garmin Ltd. GRMN', 'value': 'GRMN'},\n",
              " {'label': 'GCI Liberty, Inc. GLIBA', 'value': 'GLIBA'},\n",
              " {'label': 'Gentex Corporation GNTX', 'value': 'GNTX'},\n",
              " {'label': 'Gilead Sciences, Inc. GILD', 'value': 'GILD'},\n",
              " {'label': 'Goodyear Tire & Rubber Company (The) GT', 'value': 'GT'},\n",
              " {'label': 'Grand Canyon Education, Inc. LOPE', 'value': 'LOPE'},\n",
              " {'label': 'Hasbro, Inc. HAS', 'value': 'HAS'},\n",
              " {'label': 'HD Supply Holdings, Inc. HDS', 'value': 'HDS'},\n",
              " {'label': 'Henry Schein, Inc. HSIC', 'value': 'HSIC'},\n",
              " {'label': 'Hologic, Inc. HOLX', 'value': 'HOLX'},\n",
              " {'label': 'Huntington Bancshares Incorporated HBANO', 'value': 'HBANO'},\n",
              " {'label': 'Huntington Bancshares Incorporated HBAN', 'value': 'HBAN'},\n",
              " {'label': 'IAC/InterActiveCorp IAC', 'value': 'IAC'},\n",
              " {'label': 'Icahn Enterprises L.P. IEP', 'value': 'IEP'},\n",
              " {'label': 'ICON plc ICLR', 'value': 'ICLR'},\n",
              " {'label': 'ICU Medical, Inc. ICUI', 'value': 'ICUI'},\n",
              " {'label': 'IDEXX Laboratories, Inc. IDXX', 'value': 'IDXX'},\n",
              " {'label': 'IHS Markit Ltd. INFO', 'value': 'INFO'},\n",
              " {'label': 'Illumina, Inc. ILMN', 'value': 'ILMN'},\n",
              " {'label': 'Incyte Corporation INCY', 'value': 'INCY'},\n",
              " {'label': 'Intel Corporation INTC', 'value': 'INTC'},\n",
              " {'label': 'Interactive Brokers Group, Inc. IBKR', 'value': 'IBKR'},\n",
              " {'label': 'Intuit Inc. INTU', 'value': 'INTU'},\n",
              " {'label': 'Intuitive Surgical, Inc. ISRG', 'value': 'ISRG'},\n",
              " {'label': 'Ionis Pharmaceuticals, Inc. IONS', 'value': 'IONS'},\n",
              " {'label': 'IPG Photonics Corporation IPGP', 'value': 'IPGP'},\n",
              " {'label': 'J.B. Hunt Transport Services, Inc. JBHT', 'value': 'JBHT'},\n",
              " {'label': 'Jack Henry & Associates, Inc. JKHY', 'value': 'JKHY'},\n",
              " {'label': 'Jazz Pharmaceuticals plc JAZZ', 'value': 'JAZZ'},\n",
              " {'label': 'JD.com, Inc. JD', 'value': 'JD'},\n",
              " {'label': 'JetBlue Airways Corporation JBLU', 'value': 'JBLU'},\n",
              " {'label': 'KLA-Tencor Corporation KLAC', 'value': 'KLAC'},\n",
              " {'label': 'Kraft Heinz Company (The) KHC', 'value': 'KHC'},\n",
              " {'label': 'Lam Research Corporation LRCX', 'value': 'LRCX'},\n",
              " {'label': 'Lamar Advertising Company LAMR', 'value': 'LAMR'},\n",
              " {'label': 'Lincoln Electric Holdings, Inc. LECO', 'value': 'LECO'},\n",
              " {'label': 'Littelfuse, Inc. LFUS', 'value': 'LFUS'},\n",
              " {'label': 'LKQ Corporation LKQ', 'value': 'LKQ'},\n",
              " {'label': 'Logitech International S.A. LOGI', 'value': 'LOGI'},\n",
              " {'label': 'LogMein, Inc. LOGM', 'value': 'LOGM'},\n",
              " {'label': 'LPL Financial Holdings Inc. LPLA', 'value': 'LPLA'},\n",
              " {'label': 'lululemon athletica inc. LULU', 'value': 'LULU'},\n",
              " {'label': 'Madison Square Garden Company (The) MSG', 'value': 'MSG'},\n",
              " {'label': 'MarketAxess Holdings, Inc. MKTX', 'value': 'MKTX'},\n",
              " {'label': 'Marriott International MAR', 'value': 'MAR'},\n",
              " {'label': 'Marvell Technology Group Ltd. MRVL', 'value': 'MRVL'},\n",
              " {'label': 'Match Group, Inc. MTCH', 'value': 'MTCH'},\n",
              " {'label': 'Maxim Integrated Products, Inc. MXIM', 'value': 'MXIM'},\n",
              " {'label': 'MercadoLibre, Inc. MELI', 'value': 'MELI'},\n",
              " {'label': 'Methanex Corporation MEOH', 'value': 'MEOH'},\n",
              " {'label': 'Microchip Technology Incorporated MCHP', 'value': 'MCHP'},\n",
              " {'label': 'Micron Technology, Inc. MU', 'value': 'MU'},\n",
              " {'label': 'Microsemi Corporation MSCC', 'value': 'MSCC'},\n",
              " {'label': 'Microsoft Corporation MSFT', 'value': 'MSFT'},\n",
              " {'label': 'Middleby Corporation (The) MIDD', 'value': 'MIDD'},\n",
              " {'label': 'MKS Instruments, Inc. MKSI', 'value': 'MKSI'},\n",
              " {'label': 'Momo Inc. MOMO', 'value': 'MOMO'},\n",
              " {'label': 'Mondelez International, Inc. MDLZ', 'value': 'MDLZ'},\n",
              " {'label': 'Monster Beverage Corporation MNST', 'value': 'MNST'},\n",
              " {'label': 'Mylan N.V. MYL', 'value': 'MYL'},\n",
              " {'label': 'Nasdaq, Inc. NDAQ', 'value': 'NDAQ'},\n",
              " {'label': 'National Instruments Corporation NATI', 'value': 'NATI'},\n",
              " {'label': 'Nektar Therapeutics NKTR', 'value': 'NKTR'},\n",
              " {'label': 'NetApp, Inc. NTAP', 'value': 'NTAP'},\n",
              " {'label': 'NetEase, Inc. NTES', 'value': 'NTES'},\n",
              " {'label': 'Netflix, Inc. NFLX', 'value': 'NFLX'},\n",
              " {'label': 'Neurocrine Biosciences, Inc. NBIX', 'value': 'NBIX'},\n",
              " {'label': 'News Corporation NWS', 'value': 'NWS'},\n",
              " {'label': 'News Corporation NWSA', 'value': 'NWSA'},\n",
              " {'label': 'Nordson Corporation NDSN', 'value': 'NDSN'},\n",
              " {'label': 'Northern Trust Corporation NTRS', 'value': 'NTRS'},\n",
              " {'label': 'Norwegian Cruise Line Holdings Ltd. NCLH', 'value': 'NCLH'},\n",
              " {'label': 'Nutanix, Inc. NTNX', 'value': 'NTNX'},\n",
              " {'label': 'NVIDIA Corporation NVDA', 'value': 'NVDA'},\n",
              " {'label': 'NXP Semiconductors N.V. NXPI', 'value': 'NXPI'},\n",
              " {'label': 'Old Dominion Freight Line, Inc. ODFL', 'value': 'ODFL'},\n",
              " {'label': 'ON Semiconductor Corporation ON', 'value': 'ON'},\n",
              " {'label': 'Open Text Corporation OTEX', 'value': 'OTEX'},\n",
              " {'label': \"O'Reilly Automotive, Inc. ORLY\", 'value': 'ORLY'},\n",
              " {'label': 'PACCAR Inc. PCAR', 'value': 'PCAR'},\n",
              " {'label': 'PacWest Bancorp PACW', 'value': 'PACW'},\n",
              " {'label': 'Paychex, Inc. PAYX', 'value': 'PAYX'},\n",
              " {'label': 'PayPal Holdings, Inc. PYPL', 'value': 'PYPL'},\n",
              " {'label': \"People's United Financial, Inc. PBCT\", 'value': 'PBCT'},\n",
              " {'label': 'Pepsico, Inc. PEP', 'value': 'PEP'},\n",
              " {'label': \"Pilgrim's Pride Corporation PPC\", 'value': 'PPC'},\n",
              " {'label': 'Pinnacle Financial Partners, Inc. PNFP', 'value': 'PNFP'},\n",
              " {'label': 'Pool Corporation POOL', 'value': 'POOL'},\n",
              " {'label': 'PowerShares QQQ Trust, Series 1 QQQ', 'value': 'QQQ'},\n",
              " {'label': 'PRA Health Sciences, Inc. PRAH', 'value': 'PRAH'},\n",
              " {'label': 'Principal Financial Group Inc PFG', 'value': 'PFG'},\n",
              " {'label': 'Proofpoint, Inc. PFPT', 'value': 'PFPT'},\n",
              " {'label': 'PTC Inc. PTC', 'value': 'PTC'},\n",
              " {'label': 'Qiagen N.V. QGEN', 'value': 'QGEN'},\n",
              " {'label': 'Qorvo, Inc. QRVO', 'value': 'QRVO'},\n",
              " {'label': 'QUALCOMM Incorporated QCOM', 'value': 'QCOM'},\n",
              " {'label': 'Regeneron Pharmaceuticals, Inc. REGN', 'value': 'REGN'},\n",
              " {'label': 'Ross Stores, Inc. ROST', 'value': 'ROST'},\n",
              " {'label': 'Royal Gold, Inc. RGLD', 'value': 'RGLD'},\n",
              " {'label': 'Ryanair Holdings plc RYAAY', 'value': 'RYAAY'},\n",
              " {'label': 'Sabre Corporation SABR', 'value': 'SABR'},\n",
              " {'label': 'Sage Therapeutics, Inc. SAGE', 'value': 'SAGE'},\n",
              " {'label': 'SBA Communications Corporation SBAC', 'value': 'SBAC'},\n",
              " {'label': 'Seagate Technology PLC STX', 'value': 'STX'},\n",
              " {'label': 'Seattle Genetics, Inc. SGEN', 'value': 'SGEN'},\n",
              " {'label': 'SEI Investments Company SEIC', 'value': 'SEIC'},\n",
              " {'label': 'Shire plc SHPG', 'value': 'SHPG'},\n",
              " {'label': 'Signature Bank SBNY', 'value': 'SBNY'},\n",
              " {'label': 'Sina Corporation SINA', 'value': 'SINA'},\n",
              " {'label': 'Sirius XM Holdings Inc. SIRI', 'value': 'SIRI'},\n",
              " {'label': 'Skyworks Solutions, Inc. SWKS', 'value': 'SWKS'},\n",
              " {'label': 'Splunk Inc. SPLK', 'value': 'SPLK'},\n",
              " {'label': 'SS&C Technologies Holdings, Inc. SSNC', 'value': 'SSNC'},\n",
              " {'label': 'Starbucks Corporation SBUX', 'value': 'SBUX'},\n",
              " {'label': 'Steel Dynamics, Inc. STLD', 'value': 'STLD'},\n",
              " {'label': 'Stericycle, Inc. SRCL', 'value': 'SRCL'},\n",
              " {'label': 'SVB Financial Group SIVB', 'value': 'SIVB'},\n",
              " {'label': 'Symantec Corporation SYMC', 'value': 'SYMC'},\n",
              " {'label': 'Synopsys, Inc. SNPS', 'value': 'SNPS'},\n",
              " {'label': 'T. Rowe Price Group, Inc. TROW', 'value': 'TROW'},\n",
              " {'label': 'Take-Two Interactive Software, Inc. TTWO', 'value': 'TTWO'},\n",
              " {'label': 'TD Ameritrade Holding Corporation AMTD', 'value': 'AMTD'},\n",
              " {'label': 'Tesla, Inc.  TSLA', 'value': 'TSLA'},\n",
              " {'label': 'Texas Instruments Incorporated TXN', 'value': 'TXN'},\n",
              " {'label': 'T-Mobile US, Inc. TMUS', 'value': 'TMUS'},\n",
              " {'label': 'Tractor Supply Company TSCO', 'value': 'TSCO'},\n",
              " {'label': 'Trimble Inc. TRMB', 'value': 'TRMB'},\n",
              " {'label': 'TripAdvisor, Inc. TRIP', 'value': 'TRIP'},\n",
              " {'label': 'Twenty-First Century Fox, Inc. FOX', 'value': 'FOX'},\n",
              " {'label': 'Ubiquiti Networks, Inc. UBNT', 'value': 'UBNT'},\n",
              " {'label': 'Ulta Beauty, Inc. ULTA', 'value': 'ULTA'},\n",
              " {'label': 'Ultimate Software Group, Inc. (The) ULTI', 'value': 'ULTI'},\n",
              " {'label': 'VeriSign, Inc. VRSN', 'value': 'VRSN'},\n",
              " {'label': 'Verisk Analytics, Inc. VRSK', 'value': 'VRSK'},\n",
              " {'label': 'Vertex Pharmaceuticals Incorporated VRTX', 'value': 'VRTX'},\n",
              " {'label': 'Viacom Inc. VIA', 'value': 'VIA'},\n",
              " {'label': 'Virtu Financial, Inc. VIRT', 'value': 'VIRT'},\n",
              " {'label': 'Vodafone Group Plc VOD', 'value': 'VOD'},\n",
              " {'label': 'Walgreens Boots Alliance, Inc. WBA', 'value': 'WBA'},\n",
              " {'label': 'Weibo Corporation WB', 'value': 'WB'},\n",
              " {'label': 'Western Digital Corporation WDC', 'value': 'WDC'},\n",
              " {'label': 'Willis Towers Watson Public Limited Company WLTW',\n",
              "  'value': 'WLTW'},\n",
              " {'label': 'Workday, Inc. WDAY', 'value': 'WDAY'},\n",
              " {'label': 'Wynn Resorts, Limited WYNN', 'value': 'WYNN'},\n",
              " {'label': 'Xcel Energy Inc. XEL', 'value': 'XEL'},\n",
              " {'label': 'Xilinx, Inc. XLNX', 'value': 'XLNX'},\n",
              " {'label': 'Yandex N.V. YNDX', 'value': 'YNDX'},\n",
              " {'label': 'Zebra Technologies Corporation ZBRA', 'value': 'ZBRA'},\n",
              " {'label': 'Zillow Group, Inc. ZG', 'value': 'ZG'},\n",
              " {'label': 'Zions Bancorporation ZION', 'value': 'ZION'}]"
            ]
          },
          "metadata": {
            "tags": []
          },
          "execution_count": 17
        }
      ]
    },
    {
      "cell_type": "code",
      "metadata": {
        "id": "KNaYbfWErEqy",
        "colab_type": "code",
        "colab": {
          "base_uri": "https://localhost:8080/",
          "height": 135
        },
        "outputId": "400f816b-edfd-4b54-ecc8-0eeaaba97de6"
      },
      "source": [
        "# Setup the layout of the dashboard\n",
        "\n",
        "image_src = \"https://raw.githubusercontent.com/ktiwari9/algotradingbot/master/assets/images/Algotrading-Bot-Logo.png\" #background image\n",
        "\n",
        "app.layout = html.Div([\n",
        "                html.Div([\n",
        "                    html.Div([html.H1('Stock Price Dashboard')\n",
        "                    ], style={'display':'inline-block',\n",
        "                            'padding':10, 'font-family': font_family}),\n",
        "                    html.Div([html.Img(src=encode_image(image_src), height=150)\n",
        "                    ], style={'float':'right', 'display':'inline-block',\n",
        "                            'padding':0})\n",
        "                ], style={'backgroundColor':bg_colour,'fontColor': font_colour, 'fontFamily':font_family,\n",
        "                        'padding':0, 'height':120}),\n",
        "\n",
        "                html.Div([\n",
        "                  html.Div([\n",
        "                    html.H3('1 - Choose a stock symbol: ', style={'paddingRight':'30px', 'color':font_colour}),\n",
        "                    dcc.Dropdown(id='my_ticker_symbol',\n",
        "                            options = options,\n",
        "                            value='TSLA'\n",
        "                            #multi=True\n",
        "                )], style={'backgroundColor':bg_colour,'fontColor': 'black', 'color':'black', 'fontFamily':font_family, 'display':'inline-block', 'verticalAlign':'top', 'width':'30%',\n",
        "                        'padding':10}),\n",
        "\n",
        "                html.Div([html.H3('2 - Select a start and end date'),\n",
        "                    dcc.DatePickerRange(id='my_date_picker',\n",
        "                                        min_date_allowed=dt.datetime(2015,1,1),\n",
        "                                        max_date_allowed=dt.datetime.today(),\n",
        "                                        start_date=dt.datetime(2018,1,1),\n",
        "                                        end_date=dt.datetime.today()\n",
        "                                        )\n",
        "                ], style={'backgroundColor':bg_colour,'fontColor': font_colour, 'fontFamily':font_family,'display':'inline-block',\n",
        "                        'padding':10}),\n",
        "\n",
        "                html.Div([\n",
        "                    html.H3('3 - Enter the number of simulations (1-500) and hit submit'),\n",
        "                    dcc.Input(id='n_runs_input',\n",
        "                              placeholder='#',\n",
        "                              type='number',\n",
        "                              max=500,\n",
        "                              min=1\n",
        "                              ),\n",
        "                    html.Button(id='submit-button',\n",
        "                                n_clicks=0,\n",
        "                                children='Submit',\n",
        "                                style={'fontSize':24, 'marginLeft':'40px'})\n",
        "                    # html.H3('Enter the number of simulations (1-500) and hit submit')\n",
        "                ], style={'backgroundColor':bg_colour,'fontColor': font_colour, 'fontFamily':font_family, 'display':'inline-block',\n",
        "                        'padding':10, 'verticalAlign':'top'})\n",
        "\n",
        "                ]),\n",
        "\n",
        "                html.Hr([]),\n",
        "\n",
        "                html.Div([\n",
        "                    dcc.Graph(id='my_graph',\n",
        "                            figure={'data':[{'x':[1,2], 'y':[3,1]}],\n",
        "                            #'layout':{'title':'Closing Price',\n",
        "                            'layout':go.Layout(title='Closing Price',\n",
        "                                                yaxis=dict(title='Price / $'),\n",
        "                                                paper_bgcolor='rgba(0,0,0,0)',\n",
        "                                                plot_bgcolor='rgba(0,0,0,0)',\n",
        "                                                font=dict(family=font_family, size=font_size, color=font_colour)\n",
        "                                                )\n",
        "                            },\n",
        "                            style={'width':'75%', 'height':400})\n",
        "                ], style={'backgroundColor':bg_colour,'fontColor': font_colour,\n",
        "                        'padding':0}),\n",
        "\n",
        "                html.Div([\n",
        "                        html.Div([\n",
        "                                dcc.Graph(id='pathGraph',\n",
        "                                        figure={'data':[{'x':[1,4], 'y':[3,1]}],\n",
        "                                                'layout':go.Layout(paper_bgcolor='rgba(0,0,0,0)',\n",
        "                                                                    plot_bgcolor='rgba(0,0,0,0)',\n",
        "                                                                    font=dict(family=font_family, size=font_size, color=font_colour)\n",
        "                                                                    )\n",
        "                                        })\n",
        "                        ], style={'width':'49%', 'display':'inline-block'}),\n",
        "                        html.Div([\n",
        "                                dcc.Graph(id='mcGraph',\n",
        "                                        figure={'data':[{'x':[1,2], 'y':[3,1]},],\n",
        "                                                'layout':go.Layout(paper_bgcolor='rgba(0,0,0,0)',\n",
        "                                                                    plot_bgcolor='rgba(0,0,0,0)',\n",
        "                                                                    font=dict(family=font_family, size=font_size, color=font_colour)\n",
        "                                                                    )\n",
        "                                        })\n",
        "                        ], style={'backgroundColor':bg_colour,'fontColor': font_colour,'width':'49%', 'display':'inline-block', 'float':'right'})\n",
        "                ], style={'backgroundColor':bg_colour,'fontColor': font_colour,'width':'100%'}),\n",
        "\n",
        "                html.Div([\n",
        "                dcc.Markdown(tw.dedent('''\n",
        "                        This dashboard uses [Geometric Brownian Motion](https://en.wikipedia.org/wiki/Geometric_Brownian_motion) to simulate stock price movement.\n",
        "                        The maximum number of simulations is capped at 500, although many thousands are needed to make the distribution smooth.\n",
        "                        The stock price data is from [IEX](https://iextrading.com/apps/stocks/) and pulled in using [Pandas DataReader](https://pandas-datareader.readthedocs.io/en/latest/remote_data.html#iex)\n",
        "                        ''')\n",
        "                )\n",
        "                ], style={'color':'lime', 'padding':10}),\n",
        "\n",
        "                html.Div(id='json_df', style={'display':'none'}) # Hidden df for intermediate step!\n",
        "\n",
        "], style={'backgroundColor':bg_colour,'fontColor': font_colour, 'color': font_colour})\n",
        "@app.callback(Output('json_df', 'children'),\n",
        "            [Input('submit-button', 'n_clicks')],\n",
        "            [State('my_ticker_symbol', 'value'),\n",
        "            State('my_date_picker', 'start_date'),\n",
        "            State('my_date_picker', 'end_date'),\n",
        "            State('n_runs_input', 'value')])"
      ],
      "execution_count": 18,
      "outputs": [
        {
          "output_type": "error",
          "ename": "SyntaxError",
          "evalue": "ignored",
          "traceback": [
            "\u001b[0;36m  File \u001b[0;32m\"<ipython-input-18-c20e51c9e992>\"\u001b[0;36m, line \u001b[0;32m109\u001b[0m\n\u001b[0;31m    State('n_runs_input', 'value')])\u001b[0m\n\u001b[0m                                    ^\u001b[0m\n\u001b[0;31mSyntaxError\u001b[0m\u001b[0;31m:\u001b[0m unexpected EOF while parsing\n"
          ]
        }
      ]
    },
    {
      "cell_type": "code",
      "metadata": {
        "id": "XCG8R5hjvfye",
        "colab_type": "code",
        "colab": {
          "base_uri": "https://localhost:8080/",
          "height": 653
        },
        "outputId": "ce0e6cc9-00cf-43e7-a4af-23ccaad677bb"
      },
      "source": [
        "# Render the app\n",
        "app"
      ],
      "execution_count": 19,
      "outputs": [
        {
          "output_type": "execute_result",
          "data": {
            "text/html": [
              "<div>\n",
              "  <iframe src=\"/app/endpoints/a43e811abad740369277099d5e21c8a7/\" width=800 height=600 frameborder=\"0\"></iframe>\n",
              "  <hr/><a href=\"/app/endpoints/a43e811abad740369277099d5e21c8a7/\" target=\"_new\">Open in new window</a> for /app/endpoints/a43e811abad740369277099d5e21c8a7/\n",
              "</div>"
            ],
            "text/plain": [
              "<jupyter_plotly_dash.dash_wrapper.JupyterDash at 0x7f7945eb5be0>"
            ]
          },
          "metadata": {
            "tags": []
          },
          "execution_count": 19
        }
      ]
    }
  ]
}